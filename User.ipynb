{
 "cells": [
  {
   "cell_type": "code",
   "execution_count": 1,
   "id": "4a6ed43a",
   "metadata": {},
   "outputs": [],
   "source": [
    "from git import Repo\n",
    "\n",
    "def git_pull():\n",
    "    repo = Repo('..\\Proyecto-TEL252\\.git')\n",
    "    repo.remotes.origin.pull()\n",
    "\n",
    "def git_push(commit_message):\n",
    "    try:\n",
    "        repo = Repo(r'..\\Proyecto-TEL252\\.git')\n",
    "        repo.git.add('--all')\n",
    "        repo.index.commit(commit_message)\n",
    "        origin = repo.remote(name='origin')\n",
    "        origin.push()\n",
    "    except:\n",
    "        print('Hubo un problema al hacer push')    \n",
    "         \n",
    "    "
   ]
  },
  {
   "cell_type": "code",
   "execution_count": 2,
   "id": "36195dcf",
   "metadata": {},
   "outputs": [],
   "source": [
    "git_pull()"
   ]
  },
  {
   "cell_type": "code",
   "execution_count": 3,
   "id": "22db65e1",
   "metadata": {},
   "outputs": [],
   "source": [
    "from Crypto import Random\n",
    "from Crypto.Cipher import AES\n",
    "import os\n",
    "import os.path\n",
    "from os import listdir\n",
    "from Crypto.Protocol.KDF import PBKDF2 \n",
    "import string, secrets as prng\n",
    "from time import sleep\n",
    "\n",
    "\n",
    "class Encryptor:\n",
    "    def __init__(self, key):\n",
    "        self.key = key\n",
    "\n",
    "    def decrypt(self, ciphertext, key):\n",
    "        iv = ciphertext[:AES.block_size]\n",
    "        cipher = AES.new(key, AES.MODE_CBC, iv)\n",
    "        plaintext = cipher.decrypt(ciphertext[AES.block_size:])\n",
    "        return plaintext.rstrip(b\"\\0\")\n",
    "\n",
    "    def decrypt_file(self, file_name):\n",
    "        try:\n",
    "            with open(file_name, 'rb') as fo:\n",
    "                ciphertext = fo.read()\n",
    "            dec = self.decrypt(ciphertext, self.key)\n",
    "            with open(\"temperatures.csv\", 'wb') as fo:\n",
    "                fo.write(dec)\n",
    "            os.remove(file_name)\n",
    "            \n",
    "        except:\n",
    "            print(\"El archivo para desencriptar no ha sido generado todavía\")"
   ]
  },
  {
   "cell_type": "code",
   "execution_count": 4,
   "id": "49dbb463",
   "metadata": {},
   "outputs": [],
   "source": [
    "global salt\n",
    "from datetime import date\n",
    "\n",
    "try:\n",
    "    with open(r\"..\\Proyecto-TEL252\\s.enc\", 'rb') as fo:\n",
    "        salt = fo.read()\n",
    "    \n",
    "    password = str(date.today())\n",
    "    key = PBKDF2(password, salt, dkLen = 16) \n",
    "    \n",
    "    dec = Encryptor(key)\n",
    "    dec.decrypt_file(r\"C:\\Users\\erict\\Desktop\\TEL252 - Cripto\\Proyecto-TEL252\\temperatures.csv_encripted.enc\")\n",
    "    \n",
    "    os.remove(r\"..\\Proyecto-TEL252\\s.enc\")\n",
    "    \n",
    "except:\n",
    "    print(\"No se encuentra el archivo\")"
   ]
  },
  {
   "cell_type": "code",
   "execution_count": 5,
   "id": "1b7a63ff",
   "metadata": {},
   "outputs": [],
   "source": [
    "git_push(str(date.today()))"
   ]
  },
  {
   "cell_type": "code",
   "execution_count": null,
   "id": "41bd3679",
   "metadata": {},
   "outputs": [],
   "source": []
  }
 ],
 "metadata": {
  "kernelspec": {
   "display_name": "Python 3",
   "language": "python",
   "name": "python3"
  },
  "language_info": {
   "codemirror_mode": {
    "name": "ipython",
    "version": 3
   },
   "file_extension": ".py",
   "mimetype": "text/x-python",
   "name": "python",
   "nbconvert_exporter": "python",
   "pygments_lexer": "ipython3",
   "version": "3.8.8"
  }
 },
 "nbformat": 4,
 "nbformat_minor": 5
}
