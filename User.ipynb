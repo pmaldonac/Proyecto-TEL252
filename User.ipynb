{
 "cells": [
  {
   "cell_type": "code",
   "execution_count": 1,
   "id": "4a6ed43a",
   "metadata": {},
   "outputs": [],
   "source": [
    "from git import Repo\n",
    "\n",
    "def git_pull():\n",
    "    try:\n",
    "        repo = Repo('.\\Proyecto-TEL252\\.git')\n",
    "        origin = repo.remote(name='origin')\n",
    "        origin.pull()\n",
    "    except:\n",
    "        print(\"Error\")\n"
   ]
  },
  {
   "cell_type": "code",
   "execution_count": 2,
   "id": "36195dcf",
   "metadata": {},
   "outputs": [],
   "source": [
    "git_pull()"
   ]
  },
  {
   "cell_type": "code",
   "execution_count": 3,
   "id": "22db65e1",
   "metadata": {},
   "outputs": [],
   "source": [
    "from Crypto import Random\n",
    "from Crypto.Cipher import AES\n",
    "import os\n",
    "import os.path\n",
    "from os import listdir\n",
    "from Crypto.Protocol.KDF import PBKDF2 \n",
    "import string, secrets as prng\n",
    "from time import sleep\n",
    "\n",
    "\n",
    "class Encryptor:\n",
    "    def __init__(self, key):\n",
    "        self.key = key\n",
    "\n",
    "    def decrypt(self, ciphertext, key):\n",
    "        iv = ciphertext[:AES.block_size]\n",
    "        cipher = AES.new(key, AES.MODE_CBC, iv)\n",
    "        plaintext = cipher.decrypt(ciphertext[AES.block_size:])\n",
    "        return plaintext.rstrip(b\"\\0\")\n",
    "\n",
    "    def decrypt_file(self, file_name):\n",
    "        try:\n",
    "            with open(file_name, 'rb') as fo:\n",
    "                ciphertext = fo.read()\n",
    "            dec = self.decrypt(ciphertext, self.key)\n",
    "            with open(\"temperatures.csv\", 'wb') as fo:\n",
    "                fo.write(dec)\n",
    "            os.remove(file_name)\n",
    "        except:\n",
    "            print(\"El archivo no existe\")"
   ]
  },
  {
   "cell_type": "code",
   "execution_count": 4,
   "id": "49dbb463",
   "metadata": {},
   "outputs": [
    {
     "ename": "FileNotFoundError",
     "evalue": "[Errno 2] No such file or directory: 'C:\\\\Users\\\\pbele\\\\Desktop\\\\TEL252\\\\Proyecto\\\\Proyecto-TEL252\\\\s.enc'",
     "output_type": "error",
     "traceback": [
      "\u001b[1;31m---------------------------------------------------------------------------\u001b[0m",
      "\u001b[1;31mFileNotFoundError\u001b[0m                         Traceback (most recent call last)",
      "\u001b[1;32m<ipython-input-4-20c0ad98c3f9>\u001b[0m in \u001b[0;36m<module>\u001b[1;34m\u001b[0m\n\u001b[0;32m      1\u001b[0m \u001b[1;32mglobal\u001b[0m \u001b[0mkey\u001b[0m\u001b[1;33m\u001b[0m\u001b[1;33m\u001b[0m\u001b[0m\n\u001b[1;32m----> 2\u001b[1;33m \u001b[1;32mwith\u001b[0m \u001b[0mopen\u001b[0m\u001b[1;33m(\u001b[0m\u001b[1;34mr\"C:\\Users\\pbele\\Desktop\\TEL252\\Proyecto\\Proyecto-TEL252\\s.enc\"\u001b[0m\u001b[1;33m,\u001b[0m \u001b[1;34m'rb'\u001b[0m\u001b[1;33m)\u001b[0m \u001b[1;32mas\u001b[0m \u001b[0mfo\u001b[0m\u001b[1;33m:\u001b[0m\u001b[1;33m\u001b[0m\u001b[1;33m\u001b[0m\u001b[0m\n\u001b[0m\u001b[0;32m      3\u001b[0m     \u001b[0mkey\u001b[0m \u001b[1;33m=\u001b[0m \u001b[0mfo\u001b[0m\u001b[1;33m.\u001b[0m\u001b[0mread\u001b[0m\u001b[1;33m(\u001b[0m\u001b[1;33m)\u001b[0m\u001b[1;33m\u001b[0m\u001b[1;33m\u001b[0m\u001b[0m\n",
      "\u001b[1;31mFileNotFoundError\u001b[0m: [Errno 2] No such file or directory: 'C:\\\\Users\\\\pbele\\\\Desktop\\\\TEL252\\\\Proyecto\\\\Proyecto-TEL252\\\\s.enc'"
     ]
    }
   ],
   "source": [
    "global key\n",
    "with open(r\"C:\\Users\\pbele\\Desktop\\TEL252\\Proyecto\\Proyecto-TEL252\\s.enc\", 'rb') as fo:\n",
    "    key = fo.read()\n"
   ]
  },
  {
   "cell_type": "code",
   "execution_count": null,
   "id": "b7a8e58e",
   "metadata": {},
   "outputs": [],
   "source": [
    "dec = Encryptor(key)\n",
    "dec.decrypt_file(r\"C:\\Users\\pbele\\Desktop\\TEL252\\Proyecto\\Proyecto-TEL252\\temperatures.csv_encripted.enc\")"
   ]
  },
  {
   "cell_type": "code",
   "execution_count": null,
   "id": "1b7a63ff",
   "metadata": {},
   "outputs": [],
   "source": []
  },
  {
   "cell_type": "code",
   "execution_count": null,
   "id": "5b7ac09f",
   "metadata": {},
   "outputs": [],
   "source": []
  }
 ],
 "metadata": {
  "kernelspec": {
   "display_name": "Python 3",
   "language": "python",
   "name": "python3"
  },
  "language_info": {
   "codemirror_mode": {
    "name": "ipython",
    "version": 3
   },
   "file_extension": ".py",
   "mimetype": "text/x-python",
   "name": "python",
   "nbconvert_exporter": "python",
   "pygments_lexer": "ipython3",
   "version": "3.9.6"
  }
 },
 "nbformat": 4,
 "nbformat_minor": 5
}
