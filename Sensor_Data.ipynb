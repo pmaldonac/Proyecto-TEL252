{
 "cells": [
  {
   "cell_type": "code",
   "execution_count": 1,
   "id": "5057b12e",
   "metadata": {},
   "outputs": [],
   "source": [
    "from git import Repo\n",
    "\n",
    "def git_push(commit_message):\n",
    "    try:\n",
    "        repo = Repo(r'C:\\Users\\pbele\\Desktop\\TEL252\\Proyecto\\Proyecto-TEL252\\.git')\n",
    "        repo.git.add('--all')\n",
    "        repo.index.commit(commit_message)\n",
    "        origin = repo.remote(name='origin')\n",
    "        origin.push()\n",
    "    except:\n",
    "        print('Some error occured while pushing the code')    \n",
    "        "
   ]
  },
  {
   "cell_type": "code",
   "execution_count": 2,
   "id": "5366a1e6",
   "metadata": {},
   "outputs": [],
   "source": [
    "from Crypto import Random\n",
    "from Crypto.Cipher import AES\n",
    "import os\n",
    "import os.path\n",
    "from os import listdir\n",
    "from Crypto.Protocol.KDF import PBKDF2 \n",
    "import string, secrets as prng\n",
    "from time import sleep\n",
    "from datetime import date\n",
    "\n",
    "class Encryptor:\n",
    "    def __init__(self, key):\n",
    "        self.key = key\n",
    "\n",
    "    def pad(self, s):\n",
    "        return s + b\"\\0\" * (AES.block_size - len(s) % AES.block_size)\n",
    "\n",
    "    def encrypt(self, message, key, key_size=256):\n",
    "        message = self.pad(message)\n",
    "        iv = Random.new().read(AES.block_size)\n",
    "        cipher = AES.new(key, AES.MODE_CBC, iv)\n",
    "        return iv + cipher.encrypt(message)\n",
    "\n",
    "    def encrypt_file(self, file_name):\n",
    "        with open(file_name, 'rb') as fo:\n",
    "            plaintext = fo.read()\n",
    "        enc = self.encrypt(plaintext, self.key)\n",
    "        with open(file_name +\"_encripted\"+ \".enc\", 'wb') as fo:\n",
    "            fo.write(enc)\n"
   ]
  },
  {
   "cell_type": "code",
   "execution_count": 3,
   "id": "a99630fd",
   "metadata": {},
   "outputs": [],
   "source": [
    "password = str(date.today())\n",
    "salt = prng.token_bytes(32) \n",
    "key = PBKDF2(password, salt, dkLen = 16) \n",
    "with open(r\"C:\\Users\\pbele\\Desktop\\TEL252\\Proyecto\\Proyecto-TEL252\\s\"+'.enc', 'wb') as fo:\n",
    "    fo.write(key)"
   ]
  },
  {
   "cell_type": "code",
   "execution_count": 4,
   "id": "8c921a6b",
   "metadata": {},
   "outputs": [],
   "source": [
    "\n",
    "#creamos el objeto para encriptar\n",
    "enc = Encryptor(key)\n",
    "#encriptamos el archivo que mandaremos, no se si habra que encriptar el archivo entero o encriptar y enviar linea por linea\n",
    "enc.encrypt_file(r\"C:\\Users\\pbele\\Desktop\\TEL252\\Proyecto\\Proyecto-TEL252\\temperatures.csv\")   #usar algunos de los CSV que estan en discord\n"
   ]
  },
  {
   "cell_type": "code",
   "execution_count": 5,
   "id": "38f600a4",
   "metadata": {},
   "outputs": [],
   "source": [
    "git_push(password)"
   ]
  }
 ],
 "metadata": {
  "kernelspec": {
   "display_name": "Python 3",
   "language": "python",
   "name": "python3"
  },
  "language_info": {
   "codemirror_mode": {
    "name": "ipython",
    "version": 3
   },
   "file_extension": ".py",
   "mimetype": "text/x-python",
   "name": "python",
   "nbconvert_exporter": "python",
   "pygments_lexer": "ipython3",
   "version": "3.9.6"
  }
 },
 "nbformat": 4,
 "nbformat_minor": 5
}
